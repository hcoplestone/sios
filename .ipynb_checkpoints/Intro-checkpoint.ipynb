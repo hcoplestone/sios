{
 "cells": [
  {
   "cell_type": "markdown",
   "metadata": {},
   "source": [
    "# Variational Integrators - Discretising the Action"
   ]
  },
  {
   "cell_type": "markdown",
   "metadata": {},
   "source": [
    "This work is derived, with extension, from the following presentation:\n",
    "\n",
    "*Variational Integrators: Discretizing the Action  \n",
    "David Tsang  \n",
    "University of Maryland/University of Southampton  \n",
    "NIMPS Workshop - UTSC, Aug 15, 2017*"
   ]
  },
  {
   "cell_type": "markdown",
   "metadata": {},
   "source": [
    "## Hamilton's Principle"
   ]
  },
  {
   "cell_type": "markdown",
   "metadata": {},
   "source": [
    "Hamilton’s Principle states that the physical trajectories of the dynamical degrees of freedom are the solutions which extremize the action integral.\n",
    "\n",
    "Note, as defined here, Hamilton's principle applies to *Boundary Value Problems*, __NOT__ *Initial Value Problems*."
   ]
  },
  {
   "cell_type": "markdown",
   "metadata": {},
   "source": [
    "<img src=\"img/hamilton.png\" alt=\"Hamilton's principle\" style=\"width: 300px;\"/>"
   ]
  },
  {
   "cell_type": "markdown",
   "metadata": {},
   "source": [
    "We define the action as $$\\mathcal{S} = \\int_{t_0}^{t_f}{\\mathcal{L(t, q,\\dot{q})}dt}$$"
   ]
  },
  {
   "cell_type": "markdown",
   "metadata": {},
   "source": [
    "The Euler-Lagrange equations of motion are obtained by assuming appropriate boundary conditions for the variation $\\delta \\mathcal{S} = 0$:"
   ]
  },
  {
   "cell_type": "markdown",
   "metadata": {},
   "source": [
    "$$\\frac{d}{dt}{\\frac{\\partial \\mathcal{L}}{\\partial \\dot{q}}} - \\frac{\\partial \\mathcal{L}}{\\partial q} = 0$$"
   ]
  },
  {
   "cell_type": "markdown",
   "metadata": {},
   "source": [
    "## The Action as a Generating Function"
   ]
  },
  {
   "cell_type": "markdown",
   "metadata": {},
   "source": [
    "Let's assume that $q(t)$ extremises the action $\\mathcal{S}$ between some endpoints $q_0$ and $q_f$, meaning that is satisfies the Euler-Lagrange equation."
   ]
  },
  {
   "cell_type": "markdown",
   "metadata": {},
   "source": [
    "To consider how our solution depends on the endpoints, consider the quantity $\\frac{\\partial \\mathcal{S}}{\\partial q_0}$."
   ]
  },
  {
   "cell_type": "markdown",
   "metadata": {},
   "source": [
    "As $\\mathcal{S} = \\mathcal{S}(\\mathcal{L})$ and $\\mathcal{L} = \\mathcal{L}(t, q, \\dot{q})$, we can apply the chain rule to obtain: "
   ]
  },
  {
   "cell_type": "markdown",
   "metadata": {},
   "source": [
    "$$ \\frac{\\partial \\mathcal{S}}{\\partial q_0} = \\frac{\\partial \\mathcal{S}}{\\partial q} \\frac{\\partial \\mathcal{q}}{\\partial q_0} + \\frac{\\partial \\mathcal{S}}{\\partial \\dot{q}} \\frac{\\partial \\mathcal{\\dot{q}}}{\\partial q_0} $$"
   ]
  },
  {
   "cell_type": "markdown",
   "metadata": {},
   "source": [
    "Subsituting in our expression for the action $\\mathcal{S}$ on the RHS gives:"
   ]
  },
  {
   "cell_type": "markdown",
   "metadata": {},
   "source": [
    "$$ \\frac{\\partial \\mathcal{S}}{\\partial q_0} = \\int_{t_0}^{t_f}{\\bigg(\\frac{\\partial \\mathcal{L}}{\\partial q} \\frac{\\partial \\mathcal{q}}{\\partial q_0} + \\frac{\\partial \\mathcal{L}}{\\partial \\dot{q}} \\frac{\\partial \\mathcal{\\dot{q}}}{\\partial q_0}\\bigg) dt} $$"
   ]
  },
  {
   "cell_type": "markdown",
   "metadata": {},
   "source": [
    "Integrating the second term by parts gives:"
   ]
  },
  {
   "cell_type": "markdown",
   "metadata": {},
   "source": [
    "$$\\int_{t_0}^{t_f}{\\frac{\\partial \\mathcal{L}}{\\partial \\dot{q}} \\frac{\\partial \\dot{q}}{\\partial q_0}dt} = \\frac{\\partial \\mathcal{L}}{\\partial \\dot{q}} \\frac{\\partial q}{\\partial q_0}\\bigg\\rvert_{t_0}^{t_f} - \\int_{t_0}^{t_f}{\\frac{d}{dt} \\frac{\\partial \\mathcal{L}}{\\partial \\dot{q}} \\frac{\\partial q}{\\partial q_0} dt}$$"
   ]
  },
  {
   "cell_type": "markdown",
   "metadata": {},
   "source": [
    "Which, when substituted into the expression above, gives:"
   ]
  },
  {
   "cell_type": "markdown",
   "metadata": {},
   "source": [
    "$$ \\frac{\\partial \\mathcal{S}}{\\partial q_0} = \\int_{t_0}^{t_f}{\\bigg(\\frac{\\partial \\mathcal{L}}{\\partial q} \\frac{\\partial \\mathcal{q}}{\\partial q_0} - \\frac{d}{dt} \\frac{\\partial \\mathcal{L}}{\\partial \\dot{q}} \\frac{\\partial q}{\\partial q_0} \\bigg) dt} + \\frac{\\partial \\mathcal{L}}{\\partial \\dot{q}} \\frac{\\partial q}{\\partial q_0}\\bigg\\rvert_{t_0}^{t_f} $$"
   ]
  },
  {
   "cell_type": "markdown",
   "metadata": {},
   "source": [
    "$$ \\therefore \\frac{\\partial \\mathcal{S}}{\\partial q_0} = \\int_{t_0}^{t_f}{\\bigg(\\frac{\\partial \\mathcal{L}}{\\partial q}  - \\frac{d}{dt} \\frac{\\partial \\mathcal{L}}{\\partial \\dot{q}} \\bigg)\\frac{\\partial \\mathcal{q}}{\\partial q_0} dt} + \\frac{\\partial \\mathcal{L}}{\\partial \\dot{q}} \\frac{\\partial q}{\\partial q_0}\\bigg\\rvert_{t_0}^{t_f} $$"
   ]
  },
  {
   "cell_type": "markdown",
   "metadata": {},
   "source": [
    "Notice the expression in the brackets is the Euler-Lagrange equation, which is equal to zero by construction."
   ]
  },
  {
   "cell_type": "markdown",
   "metadata": {},
   "source": [
    "So, we obtain:"
   ]
  },
  {
   "cell_type": "markdown",
   "metadata": {},
   "source": [
    "$$ \\frac{\\partial \\mathcal{S}}{\\partial q_0} = \\frac{\\partial \\mathcal{L}}{\\partial \\dot{q}} \\frac{\\partial q}{\\partial q_0}\\bigg\\rvert_{t_0}^{t_f}$$"
   ]
  },
  {
   "cell_type": "markdown",
   "metadata": {},
   "source": [
    "If we consider that the final endpoint is independent of the initial endpoint, i.e. $\\frac{\\partial q}{\\partial q_0}\\bigg\\rvert_{t_f} = 0$ and that $\\frac{\\partial q}{\\partial q_0}\\bigg\\rvert_{t_0} = 1$, the above expression reduces to:"
   ]
  },
  {
   "cell_type": "markdown",
   "metadata": {},
   "source": [
    "$$ \\frac{\\partial \\mathcal{S}}{\\partial q_0} = -\\frac{\\partial \\mathcal{L}}{\\partial \\dot{q}} \\bigg\\rvert_{t_0} \\equiv -p_0 $$"
   ]
  },
  {
   "cell_type": "markdown",
   "metadata": {},
   "source": [
    "where $p_0$ is the momentum of coordinate $q$ at the initial endpoint."
   ]
  },
  {
   "cell_type": "markdown",
   "metadata": {},
   "source": [
    "Similarly, it can be shown that:"
   ]
  },
  {
   "cell_type": "markdown",
   "metadata": {},
   "source": [
    "$$ \\frac{\\partial \\mathcal{S}}{\\partial q_f} = \\frac{\\partial \\mathcal{L}}{\\partial \\dot{q}} \\bigg\\rvert_{t_f} \\equiv p_f $$"
   ]
  },
  {
   "cell_type": "markdown",
   "metadata": {},
   "source": [
    "**The extremal action is a (Type 1) generating function for the canonical transformation that implements time evolution of the degrees of freedom (Hamilton-Jacobi theory).**"
   ]
  },
  {
   "cell_type": "markdown",
   "metadata": {},
   "source": [
    "## Piecewise Extremal Trajectories & A “Perfect” Integrator"
   ]
  },
  {
   "cell_type": "markdown",
   "metadata": {},
   "source": [
    "Let’s consider a sequence of points ${q_n}$ that represent the positions at time ${t_n}$. We can connect these with a set of curves with ${\\eta_n(t)}$ that are piecewise connected."
   ]
  },
  {
   "cell_type": "markdown",
   "metadata": {},
   "source": [
    "<img src=\"img/trajectory.png\" alt=\"Hamilton's principle\" style=\"width: 500px;\"/>"
   ]
  },
  {
   "cell_type": "code",
   "execution_count": null,
   "metadata": {},
   "outputs": [],
   "source": []
  }
 ],
 "metadata": {
  "kernelspec": {
   "display_name": "Python [default]",
   "language": "python",
   "name": "python3"
  },
  "language_info": {
   "codemirror_mode": {
    "name": "ipython",
    "version": 3
   },
   "file_extension": ".py",
   "mimetype": "text/x-python",
   "name": "python",
   "nbconvert_exporter": "python",
   "pygments_lexer": "ipython3",
   "version": "3.7.0"
  }
 },
 "nbformat": 4,
 "nbformat_minor": 2
}
