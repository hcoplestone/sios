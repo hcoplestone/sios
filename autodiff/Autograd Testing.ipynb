{
 "cells": [
  {
   "cell_type": "markdown",
   "metadata": {},
   "source": [
    "# Lagrangian Mechanics"
   ]
  },
  {
   "cell_type": "markdown",
   "metadata": {},
   "source": [
    "First, let's import autograd and numpy. "
   ]
  },
  {
   "cell_type": "code",
   "execution_count": 1,
   "metadata": {},
   "outputs": [],
   "source": [
    "import autograd.numpy as np"
   ]
  },
  {
   "cell_type": "code",
   "execution_count": 2,
   "metadata": {},
   "outputs": [],
   "source": [
    "from autograd import grad"
   ]
  },
  {
   "cell_type": "markdown",
   "metadata": {},
   "source": [
    "Consider a one dimensional space $x \\in [-a, a]$.\n",
    "\n",
    "The Lagrangian $\\mathcal{L} = T - V$ completely defines our system.\n",
    "\n",
    "The action is defined as $$\\mathcal{S} = \\int_{t_1}^{t_2}{\\mathcal{L}}{dt}$$\n",
    "\n",
    "The system will follow the path of stationary action. This is known as Hamilton's principle: $\\delta \\mathcal{S} = 0$.\n",
    "\n",
    "Let our kinetic term $T = \\frac{1}{2}m\\dot{x}^2$ and our potential term $V = 0$ in free space."
   ]
  },
  {
   "cell_type": "markdown",
   "metadata": {},
   "source": [
    "Some constants of the system:"
   ]
  },
  {
   "cell_type": "code",
   "execution_count": 3,
   "metadata": {},
   "outputs": [],
   "source": [
    "m = 1;\n",
    "a = 1;\n",
    "t1 = 0;\n",
    "t2 = 10;"
   ]
  },
  {
   "cell_type": "markdown",
   "metadata": {},
   "source": [
    "Now define the key functions:"
   ]
  },
  {
   "cell_type": "code",
   "execution_count": null,
   "metadata": {},
   "outputs": [],
   "source": [
    "def L(x):\n",
    "    return 0.5 * m * "
   ]
  }
 ],
 "metadata": {
  "kernelspec": {
   "display_name": "Python [default]",
   "language": "python",
   "name": "python3"
  },
  "language_info": {
   "codemirror_mode": {
    "name": "ipython",
    "version": 3
   },
   "file_extension": ".py",
   "mimetype": "text/x-python",
   "name": "python",
   "nbconvert_exporter": "python",
   "pygments_lexer": "ipython3",
   "version": "3.7.0"
  }
 },
 "nbformat": 4,
 "nbformat_minor": 2
}
